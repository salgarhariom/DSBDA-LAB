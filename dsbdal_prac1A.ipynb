{
 "cells": [
  {
   "cell_type": "code",
   "execution_count": 1,
   "id": "c54cc925-657b-40c0-ab1f-046c09aa5b18",
   "metadata": {},
   "outputs": [],
   "source": [
    "import numpy as np"
   ]
  },
  {
   "cell_type": "code",
   "execution_count": 24,
   "id": "b3178351-ae8b-4dd2-9ac2-28a9e57b59d6",
   "metadata": {},
   "outputs": [],
   "source": [
    "a = np.array([\n",
    "    [100,200,150,300],\n",
    "    [50,60,40,80],\n",
    "    [300,400,350,500],\n",
    "    [200,250,220,270],\n",
    "    [80,90,70,100]\n",
    "])"
   ]
  },
  {
   "cell_type": "code",
   "execution_count": 40,
   "id": "aff3b22f-cdad-451c-9fb7-833b0482aec2",
   "metadata": {},
   "outputs": [
    {
     "data": {
      "text/plain": [
       "2"
      ]
     },
     "execution_count": 40,
     "metadata": {},
     "output_type": "execute_result"
    }
   ],
   "source": [
    "#1 Determine the number of dimensions of the array.\n",
    "a.ndim\n"
   ]
  },
  {
   "cell_type": "code",
   "execution_count": 41,
   "id": "723b254d-361d-455b-aac5-0fadde465bc0",
   "metadata": {},
   "outputs": [
    {
     "data": {
      "text/plain": [
       "20"
      ]
     },
     "execution_count": 41,
     "metadata": {},
     "output_type": "execute_result"
    }
   ],
   "source": [
    "#3 Calculate the total number of elements in the array.\n",
    "a.size"
   ]
  },
  {
   "cell_type": "code",
   "execution_count": 5,
   "id": "d6290d7b-1403-4011-98d5-dfe185b6cb9a",
   "metadata": {},
   "outputs": [
    {
     "data": {
      "text/plain": [
       "160"
      ]
     },
     "execution_count": 5,
     "metadata": {},
     "output_type": "execute_result"
    }
   ],
   "source": [
    "#4 Find the total memory (in bytes) used by the array.\n",
    "a.nbytes"
   ]
  },
  {
   "cell_type": "code",
   "execution_count": 44,
   "id": "45dd6812-dd96-4d10-8ebb-679b46443217",
   "metadata": {},
   "outputs": [
    {
     "data": {
      "text/plain": [
       "array([[120, 220, 170, 320],\n",
       "       [ 70,  80,  60, 120],\n",
       "       [320, 420, 370, 520],\n",
       "       [220, 270, 240, 290],\n",
       "       [100, 110,  90, 120]])"
      ]
     },
     "execution_count": 44,
     "metadata": {},
     "output_type": "execute_result"
    }
   ],
   "source": [
    "#5 Add 20 units of stock to all products across all locations.\n",
    "a+20"
   ]
  },
  {
   "cell_type": "code",
   "execution_count": 7,
   "id": "9dfe456c-256e-4921-b8ed-e3184362f63a",
   "metadata": {},
   "outputs": [
    {
     "data": {
      "text/plain": [
       "array([290, 390, 340, 490])"
      ]
     },
     "execution_count": 7,
     "metadata": {},
     "output_type": "execute_result"
    }
   ],
   "source": [
    "#6 Deduct 10 units of stock from Product 3 across all locations.\n",
    "a[2]-10"
   ]
  },
  {
   "cell_type": "code",
   "execution_count": 8,
   "id": "72030294-c018-4c35-836b-985f4a7d282f",
   "metadata": {},
   "outputs": [
    {
     "data": {
      "text/plain": [
       "array([[10., 20., 15., 30.],\n",
       "       [ 5.,  6.,  4.,  8.],\n",
       "       [30., 40., 35., 50.],\n",
       "       [20., 25., 22., 27.],\n",
       "       [ 8.,  9.,  7., 10.]])"
      ]
     },
     "execution_count": 8,
     "metadata": {},
     "output_type": "execute_result"
    }
   ],
   "source": [
    "#7 Calculate the percentage of stock available for each product at all locations, assuming the maximum capacity of each location is 1000 units.\n",
    "max_capacity = 1000\n",
    "(a/ max_capacity) * 100\n"
   ]
  },
  {
   "cell_type": "code",
   "execution_count": 27,
   "id": "43737236-3b17-4dbe-a99c-4f7ef4232135",
   "metadata": {},
   "outputs": [
    {
     "data": {
      "text/plain": [
       "array([ 750,  230, 1550,  940,  340])"
      ]
     },
     "execution_count": 27,
     "metadata": {},
     "output_type": "execute_result"
    }
   ],
   "source": [
    "#8Calculate the total stock of each product across all locations.\n",
    "np.sum(a,axis = 1)"
   ]
  },
  {
   "cell_type": "code",
   "execution_count": 28,
   "id": "7bacab19-92b8-4a69-9203-1ad7f9ea8a80",
   "metadata": {},
   "outputs": [
    {
     "data": {
      "text/plain": [
       "array([ 730, 1000,  830, 1250])"
      ]
     },
     "execution_count": 28,
     "metadata": {},
     "output_type": "execute_result"
    }
   ],
   "source": [
    "#9 Determine the total stock available in each location.\n",
    "np.sum(a,axis = 0)"
   ]
  },
  {
   "cell_type": "code",
   "execution_count": 29,
   "id": "b8da4cfb-ba47-41f3-ad55-20f4de8b5d51",
   "metadata": {},
   "outputs": [
    {
     "data": {
      "text/plain": [
       "array([300, 400, 350, 500])"
      ]
     },
     "execution_count": 29,
     "metadata": {},
     "output_type": "execute_result"
    }
   ],
   "source": [
    "#10 Find the product with the maximum total stock across all locations.\n",
    "np.max(a,axis = 0)"
   ]
  },
  {
   "cell_type": "code",
   "execution_count": 42,
   "id": "b42ca9da-77ca-4c8b-96ff-44e497eb8eed",
   "metadata": {},
   "outputs": [
    {
     "data": {
      "text/plain": [
       "array([100,  40, 300, 200,  70])"
      ]
     },
     "execution_count": 42,
     "metadata": {},
     "output_type": "execute_result"
    }
   ],
   "source": [
    "#11 identify the location with the minimum total stock across all products.\n",
    "np.min(a,axis = 1)"
   ]
  },
  {
   "cell_type": "code",
   "execution_count": 31,
   "id": "f8bcd8e8-7ffe-437f-98f4-9fa9a6f9bdda",
   "metadata": {},
   "outputs": [
    {
     "data": {
      "text/plain": [
       "array([187.5,  57.5, 387.5, 235. ,  85. ])"
      ]
     },
     "execution_count": 31,
     "metadata": {},
     "output_type": "execute_result"
    }
   ],
   "source": [
    "#12 Compute the average stock per product across all locations.\n",
    "np.mean(a,axis = 1)"
   ]
  },
  {
   "cell_type": "code",
   "execution_count": 32,
   "id": "ab62b748-e64f-4432-b8c2-8d148e236cb1",
   "metadata": {},
   "outputs": [
    {
     "data": {
      "text/plain": [
       "array([50, 60, 40, 80])"
      ]
     },
     "execution_count": 32,
     "metadata": {},
     "output_type": "execute_result"
    }
   ],
   "source": [
    "#13 Retrieve the stock levels of Product 2 across all locations.\n",
    "a[1]"
   ]
  },
  {
   "cell_type": "code",
   "execution_count": 33,
   "id": "62001f8b-3f64-4225-8053-21d0359151d9",
   "metadata": {},
   "outputs": [
    {
     "data": {
      "text/plain": [
       "array([150,  40, 350, 220,  70])"
      ]
     },
     "execution_count": 33,
     "metadata": {},
     "output_type": "execute_result"
    }
   ],
   "source": [
    "#14 Extract the stock levels for all products in Location 3.\n",
    "a[:,2]"
   ]
  },
  {
   "cell_type": "code",
   "execution_count": 34,
   "id": "ff4710a2-3cdd-49a3-ac52-2791c1bc131c",
   "metadata": {},
   "outputs": [
    {
     "data": {
      "text/plain": [
       "array([[100, 200],\n",
       "       [ 50,  60],\n",
       "       [300, 400]])"
      ]
     },
     "execution_count": 34,
     "metadata": {},
     "output_type": "execute_result"
    }
   ],
   "source": [
    "#15 Extract the stock levels of the first 3 products for the first 2 locations.\n",
    "a[0:3,0:2]"
   ]
  },
  {
   "cell_type": "code",
   "execution_count": 43,
   "id": "939d5666-5685-45c7-8fb5-e0f6dd2f6dfc",
   "metadata": {},
   "outputs": [
    {
     "data": {
      "text/plain": [
       "array([[220, 270],\n",
       "       [ 70, 100]])"
      ]
     },
     "execution_count": 43,
     "metadata": {},
     "output_type": "execute_result"
    }
   ],
   "source": [
    "#16 Slice the stock levels of the last 2 products for the last 2 locations.\n",
    "a[3:5, 2:4]"
   ]
  },
  {
   "cell_type": "code",
   "execution_count": 36,
   "id": "cb650f42-bcab-4e46-ad04-ef12f4f5256c",
   "metadata": {},
   "outputs": [
    {
     "name": "stdout",
     "output_type": "stream",
     "text": [
      "70\n"
     ]
    }
   ],
   "source": [
    "#17 Identify the stock of Product 5 at Location 3.\n",
    "stock = a[4,2]\n",
    "print(stock)"
   ]
  },
  {
   "cell_type": "code",
   "execution_count": 37,
   "id": "5db50519-09f8-40e7-a840-67c1c0e8eb99",
   "metadata": {},
   "outputs": [
    {
     "name": "stdout",
     "output_type": "stream",
     "text": [
      "[100 220]\n"
     ]
    }
   ],
   "source": [
    "#18 Use advanced indexing to find the stock levels of Product 1 at Location 1 and Product 4 at Location 3. \n",
    "products = [0, 3]  \n",
    "locations = [0, 2]  \n",
    "\n",
    "stock_levels = a[products, locations]\n",
    "\n",
    "print(stock_levels)"
   ]
  },
  {
   "cell_type": "code",
   "execution_count": 38,
   "id": "76e17426-c91b-4400-b011-7521d6d52b4a",
   "metadata": {},
   "outputs": [
    {
     "name": "stdout",
     "output_type": "stream",
     "text": [
      "[[100 200 150 300]\n",
      " [ 50  60  40 100]\n",
      " [300 400 350 500]\n",
      " [200 250 220 270]\n",
      " [ 80  90  70 100]]\n"
     ]
    }
   ],
   "source": [
    "#19 Update the stock of Product 2 at Location 4 to 100 units.\n",
    "a[1, 3] = 100  \n",
    "print(a)"
   ]
  },
  {
   "cell_type": "code",
   "execution_count": 39,
   "id": "5dce4095-759e-4a42-8ca1-215e46ce0f4c",
   "metadata": {},
   "outputs": [
    {
     "data": {
      "text/plain": [
       "np.int64(120)"
      ]
     },
     "execution_count": 39,
     "metadata": {},
     "output_type": "execute_result"
    }
   ],
   "source": [
    "#20Double the stock of all products at Location 2 (column 2).\n",
    "a[1,1]*2"
   ]
  },
  {
   "cell_type": "code",
   "execution_count": null,
   "id": "020e59e3-f7d6-43c3-bf3b-d2143bcc77c8",
   "metadata": {},
   "outputs": [],
   "source": []
  },
  {
   "cell_type": "code",
   "execution_count": null,
   "id": "562c9fc2-9420-49cd-b062-3812a6c4bed5",
   "metadata": {},
   "outputs": [],
   "source": []
  }
 ],
 "metadata": {
  "kernelspec": {
   "display_name": "Python 3 (ipykernel)",
   "language": "python",
   "name": "python3"
  },
  "language_info": {
   "codemirror_mode": {
    "name": "ipython",
    "version": 3
   },
   "file_extension": ".py",
   "mimetype": "text/x-python",
   "name": "python",
   "nbconvert_exporter": "python",
   "pygments_lexer": "ipython3",
   "version": "3.10.11"
  }
 },
 "nbformat": 4,
 "nbformat_minor": 5
}
