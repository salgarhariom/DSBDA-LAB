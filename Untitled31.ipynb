{
 "cells": [
  {
   "cell_type": "code",
   "execution_count": 1,
   "id": "86a4ae40",
   "metadata": {},
   "outputs": [],
   "source": [
    "import numpy as np"
   ]
  },
  {
   "cell_type": "code",
   "execution_count": 2,
   "id": "ebe873d7",
   "metadata": {},
   "outputs": [],
   "source": [
    "a = np.array([\n",
    "    [100, 200, 150, 300],  # Product 1\n",
    "    [50, 60, 40, 80],      # Product 2\n",
    "    [300, 400, 350, 500],  # Product 3\n",
    "    [200, 250, 220, 270],  # Product 4\n",
    "    [80, 90, 70, 100]      # Product 5\n",
    "])"
   ]
  },
  {
   "cell_type": "code",
   "execution_count": 3,
   "id": "3b65f541",
   "metadata": {},
   "outputs": [
    {
     "data": {
      "text/plain": [
       "2"
      ]
     },
     "execution_count": 3,
     "metadata": {},
     "output_type": "execute_result"
    }
   ],
   "source": [
    "#Determine the number of dimensions of the array.\n",
    "a.ndim"
   ]
  },
  {
   "cell_type": "code",
   "execution_count": 4,
   "id": "84c21c27",
   "metadata": {},
   "outputs": [
    {
     "data": {
      "text/plain": [
       "dtype('int32')"
      ]
     },
     "execution_count": 4,
     "metadata": {},
     "output_type": "execute_result"
    }
   ],
   "source": [
    "#Identify the data type of elements in the array\n",
    "a.dtype"
   ]
  },
  {
   "cell_type": "code",
   "execution_count": 5,
   "id": "dcdab55d",
   "metadata": {},
   "outputs": [
    {
     "data": {
      "text/plain": [
       "20"
      ]
     },
     "execution_count": 5,
     "metadata": {},
     "output_type": "execute_result"
    }
   ],
   "source": [
    "#Calculate the total number of elements in the array\n",
    "a.size"
   ]
  },
  {
   "cell_type": "code",
   "execution_count": 6,
   "id": "2c130954",
   "metadata": {},
   "outputs": [
    {
     "data": {
      "text/plain": [
       "array([[120, 220, 170, 320],\n",
       "       [ 70,  80,  60, 100],\n",
       "       [320, 420, 370, 520],\n",
       "       [220, 270, 240, 290],\n",
       "       [100, 110,  90, 120]])"
      ]
     },
     "execution_count": 6,
     "metadata": {},
     "output_type": "execute_result"
    }
   ],
   "source": [
    "#Add 20 units of stock to all products across all locations.\n",
    "np.add(a,20)"
   ]
  },
  {
   "cell_type": "code",
   "execution_count": 7,
   "id": "0167fdfe",
   "metadata": {},
   "outputs": [
    {
     "data": {
      "text/plain": [
       "array([290, 390, 340, 490])"
      ]
     },
     "execution_count": 7,
     "metadata": {},
     "output_type": "execute_result"
    }
   ],
   "source": [
    "#Deduct 10 units of stock from Product 3 across all locations\n",
    "np.subtract(a[2,:],10) "
   ]
  },
  {
   "cell_type": "code",
   "execution_count": 10,
   "id": "e4374e30",
   "metadata": {},
   "outputs": [
    {
     "data": {
      "text/plain": [
       "array([400, 120, 800, 500, 180])"
      ]
     },
     "execution_count": 10,
     "metadata": {},
     "output_type": "execute_result"
    }
   ],
   "source": [
    "#Double the stock of all products at Location 2 (column 2)\n",
    "np.multiply(a[:,1],2)"
   ]
  },
  {
   "cell_type": "code",
   "execution_count": 14,
   "id": "7d2afd53",
   "metadata": {},
   "outputs": [
    {
     "name": "stdout",
     "output_type": "stream",
     "text": [
      "[[10. 20. 15. 30.]\n",
      " [ 5.  6.  4.  8.]\n",
      " [30. 40. 35. 50.]\n",
      " [20. 25. 22. 27.]\n",
      " [ 8.  9.  7. 10.]]\n"
     ]
    }
   ],
   "source": [
    "max_capacity=1000\n",
    "per_loc=(a/1000)*100\n",
    "print(per_loc)"
   ]
  },
  {
   "cell_type": "code",
   "execution_count": null,
   "id": "bef2f301",
   "metadata": {},
   "outputs": [],
   "source": []
  }
 ],
 "metadata": {
  "kernelspec": {
   "display_name": "Python 3 (ipykernel)",
   "language": "python",
   "name": "python3"
  },
  "language_info": {
   "codemirror_mode": {
    "name": "ipython",
    "version": 3
   },
   "file_extension": ".py",
   "mimetype": "text/x-python",
   "name": "python",
   "nbconvert_exporter": "python",
   "pygments_lexer": "ipython3",
   "version": "3.11.7"
  }
 },
 "nbformat": 4,
 "nbformat_minor": 5
}
